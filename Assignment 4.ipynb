{
 "cells": [
  {
   "cell_type": "markdown",
   "id": "c3f896f4",
   "metadata": {},
   "source": [
    "# Snow Goose Data Analysis\n",
    "This notebook explores the physical measurements of the **Snow Goose** using three types of plots: line chart, scatter plot, and bar chart.\n",
    "The goal is to present interesting facts and trends visually, with clear storytelling."
   ]
  },
  {
   "cell_type": "code",
   "execution_count": null,
   "id": "36c5f534",
   "metadata": {},
   "outputs": [],
   "source": [
    "\n",
    "import pandas as pd\n",
    "import matplotlib.pyplot as plt\n",
    "\n",
    "# Load the dataset\n",
    "df = pd.read_csv('birds.csv')\n",
    "\n",
    "# Filter for Snow Goose\n",
    "snow_goose = df[df['Name'] == 'Snow goose'].iloc[0]\n",
    "snow_goose\n"
   ]
  },
  {
   "cell_type": "markdown",
   "id": "83b1a973",
   "metadata": {},
   "source": [
    "## Line Chart: Length Range\n",
    "We compare the minimum and maximum body length of the Snow Goose. This helps us understand the size variability within the species."
   ]
  },
  {
   "cell_type": "code",
   "execution_count": null,
   "id": "0ab6b77e",
   "metadata": {},
   "outputs": [],
   "source": [
    "\n",
    "length_data = [snow_goose['MinLength'], snow_goose['MaxLength']]\n",
    "\n",
    "plt.figure()\n",
    "plt.plot(['Min Length', 'Max Length'], length_data, marker='o')\n",
    "plt.title('Snow Goose Length Range')\n",
    "plt.ylabel('Length (cm)')\n",
    "plt.grid(True)\n",
    "plt.show()\n"
   ]
  },
  {
   "cell_type": "markdown",
   "id": "2b717349",
   "metadata": {},
   "source": [
    "## Scatter Plot: Body Mass vs Wingspan\n",
    "This plot shows the relationship between body mass and wingspan, for both the smallest and largest individuals."
   ]
  },
  {
   "cell_type": "code",
   "execution_count": null,
   "id": "c192fa6e",
   "metadata": {},
   "outputs": [],
   "source": [
    "\n",
    "mass_data = [snow_goose['MinBodyMass'], snow_goose['MaxBodyMass']]\n",
    "wingspan_data = [snow_goose['MinWingspan'], snow_goose['MaxWingspan']]\n",
    "\n",
    "plt.figure()\n",
    "plt.scatter(mass_data, wingspan_data, color='green')\n",
    "for i, label in enumerate(['Min', 'Max']):\n",
    "    plt.annotate(label, (mass_data[i], wingspan_data[i]))\n",
    "plt.title('Snow Goose Body Mass vs Wingspan')\n",
    "plt.xlabel('Body Mass (g)')\n",
    "plt.ylabel('Wingspan (cm)')\n",
    "plt.grid(True)\n",
    "plt.show()\n"
   ]
  },
  {
   "cell_type": "markdown",
   "id": "67fd41ba",
   "metadata": {},
   "source": [
    "## Bar Chart: Measurement Comparison\n",
    "This bar chart compares all key measurements — length, body mass, and wingspan — in one view."
   ]
  },
  {
   "cell_type": "code",
   "execution_count": null,
   "id": "0b849698",
   "metadata": {},
   "outputs": [],
   "source": [
    "\n",
    "plt.figure()\n",
    "plt.bar(['Min Length', 'Max Length'], length_data, alpha=0.6, label='Length (cm)')\n",
    "plt.bar(['Min Body Mass', 'Max Body Mass'], mass_data, alpha=0.6, label='Body Mass (g)')\n",
    "plt.bar(['Min Wingspan', 'Max Wingspan'], wingspan_data, alpha=0.6, label='Wingspan (cm)')\n",
    "plt.title('Snow Goose Measurement Comparison')\n",
    "plt.legend()\n",
    "plt.show()\n"
   ]
  },
  {
   "cell_type": "markdown",
   "id": "86f70ef0",
   "metadata": {},
   "source": [
    "## Conclusion\n",
    "The Snow Goose is a relatively large waterfowl with notable variation in its body measurements. The line chart shows a length range from **64 cm to 79 cm**, the scatter plot reveals that larger individuals tend to have wider wingspans, and the bar chart provides a quick comparison of size attributes. These measurements are useful for ornithologists and bird watchers to identify and understand the physical diversity within the species."
   ]
  }
 ],
 "metadata": {},
 "nbformat": 4,
 "nbformat_minor": 5
}
