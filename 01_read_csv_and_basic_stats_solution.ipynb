{
 "cells": [
  {
   "cell_type": "markdown",
   "id": "8828a124",
   "metadata": {},
   "source": [
    "# Solution to Exercise 01: Read CSV and Basic Stats"
   ]
  },
  {
   "cell_type": "code",
   "execution_count": null,
   "id": "885c423c",
   "metadata": {},
   "outputs": [],
   "source": [
    "import pandas as pd\n",
    "\n",
    "df = pd.read_csv('data.csv')"
   ]
  },
  {
   "cell_type": "markdown",
   "id": "848f28f0",
   "metadata": {},
   "source": [
    "### First 5 rows"
   ]
  },
  {
   "cell_type": "code",
   "execution_count": null,
   "id": "b6024cce",
   "metadata": {},
   "outputs": [],
   "source": [
    "df.head()"
   ]
  },
  {
   "cell_type": "markdown",
   "id": "787e9514",
   "metadata": {},
   "source": [
    "### DataFrame info"
   ]
  },
  {
   "cell_type": "code",
   "execution_count": null,
   "id": "d48d5cf8",
   "metadata": {},
   "outputs": [],
   "source": [
    "df.info()"
   ]
  },
  {
   "cell_type": "markdown",
   "id": "508473da",
   "metadata": {},
   "source": [
    "### Summary statistics"
   ]
  },
  {
   "cell_type": "code",
   "execution_count": null,
   "id": "74ed7799",
   "metadata": {},
   "outputs": [],
   "source": [
    "df.describe()"
   ]
  },
  {
   "cell_type": "markdown",
   "id": "eef77c80",
   "metadata": {},
   "source": [
    "### Missing values per column"
   ]
  },
  {
   "cell_type": "code",
   "execution_count": null,
   "id": "254caf02",
   "metadata": {},
   "outputs": [],
   "source": [
    "df.isnull().sum()"
   ]
  }
 ],
 "metadata": {},
 "nbformat": 4,
 "nbformat_minor": 5
}
